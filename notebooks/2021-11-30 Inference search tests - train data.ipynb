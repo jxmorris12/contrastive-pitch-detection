{
 "cells": [
  {
   "cell_type": "code",
   "execution_count": 1,
   "id": "35842308-3e4d-4f13-a1f1-1a522150932d",
   "metadata": {},
   "outputs": [],
   "source": [
    "import os\n",
    "import glob\n",
    "\n",
    "# Found file corresponding to this W&B run with: `grep \"3pzwny4n\" outputs/*/args.json`\n",
    "model_folder = '../outputs/crepe-20211129-122548'\n",
    "\n",
    "model_paths = glob.glob(os.path.join(model_folder, '*'))"
   ]
  },
  {
   "cell_type": "code",
   "execution_count": 2,
   "id": "721d166f-ff86-40ba-ba96-89088208c835",
   "metadata": {},
   "outputs": [],
   "source": [
    "import sys\n",
    "sys.path.append('/home/jxm3/research/transcription/contrastive-pitch-detection')"
   ]
  },
  {
   "cell_type": "code",
   "execution_count": 3,
   "id": "8cd48d30-8002-452a-bc24-ba950729dc6f",
   "metadata": {},
   "outputs": [],
   "source": [
    "from models.bytedance import Bytedance_Regress_pedal_Notes\n",
    "from models.contrastive import ContrastiveModel\n",
    "\n",
    "min_midi = 21\n",
    "max_midi = 108\n",
    "def get_model():\n",
    "    num_output_nodes = 256 # contrastive embedding dim\n",
    "    out_activation = None\n",
    "    \n",
    "    model = Bytedance_Regress_pedal_Notes(\n",
    "        num_output_nodes, out_activation, tiny=False\n",
    "    )\n",
    "    \n",
    "    return ContrastiveModel(model, min_midi, max_midi, num_output_nodes)"
   ]
  },
  {
   "cell_type": "code",
   "execution_count": 4,
   "id": "4f57072d-4ca0-4b8d-aba6-42abdb282637",
   "metadata": {},
   "outputs": [
    {
     "name": "stdout",
     "output_type": "stream",
     "text": [
      "loaded model from: ../outputs/crepe-20211129-122548/84_epochs.pth\n"
     ]
    },
    {
     "data": {
      "text/plain": [
       "<All keys matched successfully>"
      ]
     },
     "execution_count": 4,
     "metadata": {},
     "output_type": "execute_result"
    }
   ],
   "source": [
    "import glob\n",
    "import natsort\n",
    "import os\n",
    "import torch\n",
    "\n",
    "model_paths = glob.glob(os.path.join(model_folder, '*'))\n",
    "\n",
    "model_path = natsort.natsorted(model_paths)[-2]\n",
    "print('loaded model from:', model_path)\n",
    "\n",
    "model = get_model()\n",
    "model.load_state_dict(torch.load(model_path)['model'])"
   ]
  },
  {
   "cell_type": "code",
   "execution_count": 5,
   "id": "40498da1-8a93-4878-ae67-1479cd71db3c",
   "metadata": {},
   "outputs": [
    {
     "name": "stdout",
     "output_type": "stream",
     "text": [
      "Replacing 0 tracks with 1000 fake NSynth chords\n",
      "--> MusicDataLoader loading dataset nsynth_keyboard_train\n"
     ]
    },
    {
     "name": "stderr",
     "output_type": "stream",
     "text": [
      "Resampling tracks: 100%|██████████| 51821/51821 [00:00<00:00, 1190447.13it/s]\n"
     ]
    },
    {
     "name": "stdout",
     "output_type": "stream",
     "text": [
      "TrackFrameSampler loaded 4000 frames\n"
     ]
    }
   ],
   "source": [
    "from generator import AudioDataGenerator\n",
    "g = AudioDataGenerator(\n",
    "        [], 16000, float('inf'),\n",
    "        randomize_train_frame_offsets=True,\n",
    "        batch_size=256,\n",
    "        augmenter=None,\n",
    "        normalize_audio=False,\n",
    "        label_format='categorical',\n",
    "        min_midi=21, max_midi=108,\n",
    "        sample_rate=16000,\n",
    "        batch_by_track=False,\n",
    "        num_fake_nsynth_chords=1000,\n",
    "    )\n",
    "\n",
    "x, y = g[0]"
   ]
  },
  {
   "cell_type": "markdown",
   "id": "5c4685a6-932d-45ed-9895-41997e2692e2",
   "metadata": {},
   "source": [
    "# Inference (val set) - calculating p(chord|audio)\n",
    "\n",
    "Beam search!"
   ]
  },
  {
   "cell_type": "code",
   "execution_count": 15,
   "id": "712381a0-635a-49b1-82fd-58d77681b30c",
   "metadata": {},
   "outputs": [],
   "source": [
    "cos_sim = torch.nn.CosineSimilarity(1)\n",
    "def find_best_chord(audio, eps=0.0):\n",
    "    audio_encoding = model(audio[None])\n",
    "    best_labels = torch.zeros((88))\n",
    "    zero_label_encoding = model.encode_note_labels(best_labels[None])\n",
    "    best_overall_sim = cos_sim(audio_encoding.squeeze(), zero_label_encoding).item()\n",
    "    for _ in range(6):\n",
    "        new_labels = best_labels.repeat((88,1))\n",
    "        new_notes = torch.eye(88)\n",
    "        new_labels = torch.maximum(new_notes, new_labels) # 88 tensors, each one has a new 1 at a different position\n",
    "        label_encodings = model.encode_note_labels(new_labels)\n",
    "        cos_sims = cos_sim(audio_encoding, label_encodings)\n",
    "        best_idx = cos_sims.argmax()\n",
    "        best_sim = cos_sims[best_idx].item()\n",
    "        \n",
    "        if best_sim - best_overall_sim > eps:\n",
    "            #print('choosing note', note)\n",
    "            best_overall_sim = best_sim\n",
    "            best_labels = new_labels[best_idx]\n",
    "        else:\n",
    "            #print(f'breaking after {_} steps')\n",
    "            break\n",
    "        # print('**'*40)\n",
    "    return best_sim, best_labels"
   ]
  },
  {
   "cell_type": "code",
   "execution_count": 16,
   "id": "7335757c-38c2-4149-8e04-28dd31576394",
   "metadata": {},
   "outputs": [
    {
     "name": "stderr",
     "output_type": "stream",
     "text": [
      "Finding best chord: 100%|██████████| 256/256 [00:46<00:00,  5.48it/s]\n"
     ]
    }
   ],
   "source": [
    "import numpy as np\n",
    "import tqdm\n",
    "\n",
    "y_pred_sim = []\n",
    "y_true_sim = []\n",
    "y_rand_sim = []\n",
    "y_rand_sim_2 = []\n",
    "\n",
    "y_pred = []\n",
    "#\n",
    "for audio, y_true in tqdm.tqdm(zip(x, y), desc='Finding best chord', total=len(x)):\n",
    "    sim, label = find_best_chord(audio)\n",
    "    y_pred_sim.append(sim)\n",
    "    y_pred.append(label)\n",
    "    #\n",
    "    y_true_enc = model.encode_note_labels(y_true[None])\n",
    "    audio_enc = model(audio[None]).squeeze()\n",
    "    y_true_sim.append(cos_sim(y_true_enc, audio_enc).item())\n",
    "    # a chord with each note a random 0 or 1\n",
    "    rand_labels = torch.rand((1,88)).round()\n",
    "    rand_enc = model.encode_note_labels(rand_labels)\n",
    "    y_rand_sim.append(cos_sim(rand_enc, audio_enc).item())\n",
    "    # a chord with 1-6 random notes\n",
    "    n = np.random.choice([1,2,3,4,5,6], p=[0.5, 0.25, 0.125, 0.0625, 0.03125, 0.03125])\n",
    "    rand_idxs = np.random.choice(88, size=n)\n",
    "    rand_labels_2 = np.zeros(88)\n",
    "    rand_labels_2[rand_idxs] = 1\n",
    "    rand_labels_2 = torch.tensor(rand_labels_2[None], dtype=torch.float32)\n",
    "    rand_enc_2 = model.encode_note_labels(rand_labels_2)\n",
    "    y_rand_sim_2.append(cos_sim(rand_enc_2, audio_enc).item())\n",
    "y_pred_sim = torch.tensor(np.array(y_pred_sim))\n",
    "y_pred = torch.stack(y_pred)\n",
    "y_true_sim = torch.tensor(np.array(y_true_sim))\n",
    "y_rand_sim = torch.tensor(np.array(y_rand_sim))\n",
    "y_rand_sim_2 = torch.tensor(np.array(y_rand_sim_2))"
   ]
  },
  {
   "cell_type": "code",
   "execution_count": 8,
   "id": "53373dd4-ab53-4a92-8171-b82842f1ce33",
   "metadata": {},
   "outputs": [
    {
     "data": {
      "text/html": [
       "<div>\n",
       "<style scoped>\n",
       "    .dataframe tbody tr th:only-of-type {\n",
       "        vertical-align: middle;\n",
       "    }\n",
       "\n",
       "    .dataframe tbody tr th {\n",
       "        vertical-align: top;\n",
       "    }\n",
       "\n",
       "    .dataframe thead th {\n",
       "        text-align: right;\n",
       "    }\n",
       "</style>\n",
       "<table border=\"1\" class=\"dataframe\">\n",
       "  <thead>\n",
       "    <tr style=\"text-align: right;\">\n",
       "      <th></th>\n",
       "      <th>y_pred</th>\n",
       "      <th>y_pred_sim</th>\n",
       "      <th>y_true</th>\n",
       "      <th>y_true_sim</th>\n",
       "      <th>y_rand_sim</th>\n",
       "      <th>y_rand_sim_2</th>\n",
       "    </tr>\n",
       "  </thead>\n",
       "  <tbody>\n",
       "    <tr>\n",
       "      <th>0</th>\n",
       "      <td>[34, 44]</td>\n",
       "      <td>0.873851</td>\n",
       "      <td>[24, 40, 43, 61, 91]</td>\n",
       "      <td>0.873187</td>\n",
       "      <td>0.928209</td>\n",
       "      <td>0.663487</td>\n",
       "    </tr>\n",
       "    <tr>\n",
       "      <th>1</th>\n",
       "      <td>[]</td>\n",
       "      <td>0.854334</td>\n",
       "      <td>[87]</td>\n",
       "      <td>0.789047</td>\n",
       "      <td>0.767654</td>\n",
       "      <td>0.822788</td>\n",
       "    </tr>\n",
       "    <tr>\n",
       "      <th>2</th>\n",
       "      <td>[38, 59]</td>\n",
       "      <td>0.888909</td>\n",
       "      <td>[55, 62, 64, 69, 82, 95]</td>\n",
       "      <td>0.892222</td>\n",
       "      <td>0.914088</td>\n",
       "      <td>0.711038</td>\n",
       "    </tr>\n",
       "    <tr>\n",
       "      <th>3</th>\n",
       "      <td>[50, 65]</td>\n",
       "      <td>0.897734</td>\n",
       "      <td>[59]</td>\n",
       "      <td>0.772690</td>\n",
       "      <td>0.878599</td>\n",
       "      <td>0.736955</td>\n",
       "    </tr>\n",
       "    <tr>\n",
       "      <th>4</th>\n",
       "      <td>[33, 63]</td>\n",
       "      <td>0.903420</td>\n",
       "      <td>[57, 75]</td>\n",
       "      <td>0.783320</td>\n",
       "      <td>0.915009</td>\n",
       "      <td>0.707385</td>\n",
       "    </tr>\n",
       "    <tr>\n",
       "      <th>5</th>\n",
       "      <td>[45, 59]</td>\n",
       "      <td>0.886491</td>\n",
       "      <td>[41]</td>\n",
       "      <td>0.774952</td>\n",
       "      <td>0.890849</td>\n",
       "      <td>0.784111</td>\n",
       "    </tr>\n",
       "    <tr>\n",
       "      <th>6</th>\n",
       "      <td>[68]</td>\n",
       "      <td>0.895762</td>\n",
       "      <td>[68]</td>\n",
       "      <td>0.830476</td>\n",
       "      <td>0.861077</td>\n",
       "      <td>0.759806</td>\n",
       "    </tr>\n",
       "    <tr>\n",
       "      <th>7</th>\n",
       "      <td>[41, 46]</td>\n",
       "      <td>0.889462</td>\n",
       "      <td>[34, 59, 98]</td>\n",
       "      <td>0.871097</td>\n",
       "      <td>0.899202</td>\n",
       "      <td>0.829218</td>\n",
       "    </tr>\n",
       "    <tr>\n",
       "      <th>8</th>\n",
       "      <td>[40, 57]</td>\n",
       "      <td>0.896978</td>\n",
       "      <td>[70, 84, 104]</td>\n",
       "      <td>0.780489</td>\n",
       "      <td>0.859710</td>\n",
       "      <td>0.737549</td>\n",
       "    </tr>\n",
       "    <tr>\n",
       "      <th>9</th>\n",
       "      <td>[33, 47]</td>\n",
       "      <td>0.908943</td>\n",
       "      <td>[53, 90]</td>\n",
       "      <td>0.772499</td>\n",
       "      <td>0.881247</td>\n",
       "      <td>0.753615</td>\n",
       "    </tr>\n",
       "    <tr>\n",
       "      <th>10</th>\n",
       "      <td>[51, 57, 68]</td>\n",
       "      <td>0.896750</td>\n",
       "      <td>[88]</td>\n",
       "      <td>0.674564</td>\n",
       "      <td>0.896468</td>\n",
       "      <td>0.787654</td>\n",
       "    </tr>\n",
       "    <tr>\n",
       "      <th>11</th>\n",
       "      <td>[24, 45]</td>\n",
       "      <td>0.886871</td>\n",
       "      <td>[92]</td>\n",
       "      <td>0.686212</td>\n",
       "      <td>0.923764</td>\n",
       "      <td>0.761449</td>\n",
       "    </tr>\n",
       "    <tr>\n",
       "      <th>12</th>\n",
       "      <td>[29, 47]</td>\n",
       "      <td>0.905266</td>\n",
       "      <td>[32, 95]</td>\n",
       "      <td>0.766134</td>\n",
       "      <td>0.894095</td>\n",
       "      <td>0.802246</td>\n",
       "    </tr>\n",
       "    <tr>\n",
       "      <th>13</th>\n",
       "      <td>[37, 53]</td>\n",
       "      <td>0.882221</td>\n",
       "      <td>[61]</td>\n",
       "      <td>0.742478</td>\n",
       "      <td>0.851067</td>\n",
       "      <td>0.772835</td>\n",
       "    </tr>\n",
       "    <tr>\n",
       "      <th>14</th>\n",
       "      <td>[25, 42, 68]</td>\n",
       "      <td>0.900357</td>\n",
       "      <td>[25, 37, 64, 73, 97]</td>\n",
       "      <td>0.849378</td>\n",
       "      <td>0.915268</td>\n",
       "      <td>0.767296</td>\n",
       "    </tr>\n",
       "    <tr>\n",
       "      <th>15</th>\n",
       "      <td>[30]</td>\n",
       "      <td>0.883239</td>\n",
       "      <td>[74]</td>\n",
       "      <td>0.837461</td>\n",
       "      <td>0.813707</td>\n",
       "      <td>0.845184</td>\n",
       "    </tr>\n",
       "    <tr>\n",
       "      <th>16</th>\n",
       "      <td>[35, 50]</td>\n",
       "      <td>0.924414</td>\n",
       "      <td>[35]</td>\n",
       "      <td>0.804215</td>\n",
       "      <td>0.886501</td>\n",
       "      <td>0.794541</td>\n",
       "    </tr>\n",
       "    <tr>\n",
       "      <th>17</th>\n",
       "      <td>[26, 59]</td>\n",
       "      <td>0.877117</td>\n",
       "      <td>[59]</td>\n",
       "      <td>0.765393</td>\n",
       "      <td>0.910810</td>\n",
       "      <td>0.787142</td>\n",
       "    </tr>\n",
       "    <tr>\n",
       "      <th>18</th>\n",
       "      <td>[47, 53]</td>\n",
       "      <td>0.897430</td>\n",
       "      <td>[47]</td>\n",
       "      <td>0.827490</td>\n",
       "      <td>0.847806</td>\n",
       "      <td>0.778168</td>\n",
       "    </tr>\n",
       "    <tr>\n",
       "      <th>19</th>\n",
       "      <td>[35, 46]</td>\n",
       "      <td>0.886571</td>\n",
       "      <td>[50, 70]</td>\n",
       "      <td>0.793171</td>\n",
       "      <td>0.926561</td>\n",
       "      <td>0.702169</td>\n",
       "    </tr>\n",
       "  </tbody>\n",
       "</table>\n",
       "</div>"
      ],
      "text/plain": [
       "          y_pred  y_pred_sim                    y_true  y_true_sim  \\\n",
       "0       [34, 44]    0.873851      [24, 40, 43, 61, 91]    0.873187   \n",
       "1             []    0.854334                      [87]    0.789047   \n",
       "2       [38, 59]    0.888909  [55, 62, 64, 69, 82, 95]    0.892222   \n",
       "3       [50, 65]    0.897734                      [59]    0.772690   \n",
       "4       [33, 63]    0.903420                  [57, 75]    0.783320   \n",
       "5       [45, 59]    0.886491                      [41]    0.774952   \n",
       "6           [68]    0.895762                      [68]    0.830476   \n",
       "7       [41, 46]    0.889462              [34, 59, 98]    0.871097   \n",
       "8       [40, 57]    0.896978             [70, 84, 104]    0.780489   \n",
       "9       [33, 47]    0.908943                  [53, 90]    0.772499   \n",
       "10  [51, 57, 68]    0.896750                      [88]    0.674564   \n",
       "11      [24, 45]    0.886871                      [92]    0.686212   \n",
       "12      [29, 47]    0.905266                  [32, 95]    0.766134   \n",
       "13      [37, 53]    0.882221                      [61]    0.742478   \n",
       "14  [25, 42, 68]    0.900357      [25, 37, 64, 73, 97]    0.849378   \n",
       "15          [30]    0.883239                      [74]    0.837461   \n",
       "16      [35, 50]    0.924414                      [35]    0.804215   \n",
       "17      [26, 59]    0.877117                      [59]    0.765393   \n",
       "18      [47, 53]    0.897430                      [47]    0.827490   \n",
       "19      [35, 46]    0.886571                  [50, 70]    0.793171   \n",
       "\n",
       "    y_rand_sim  y_rand_sim_2  \n",
       "0     0.928209      0.663487  \n",
       "1     0.767654      0.822788  \n",
       "2     0.914088      0.711038  \n",
       "3     0.878599      0.736955  \n",
       "4     0.915009      0.707385  \n",
       "5     0.890849      0.784111  \n",
       "6     0.861077      0.759806  \n",
       "7     0.899202      0.829218  \n",
       "8     0.859710      0.737549  \n",
       "9     0.881247      0.753615  \n",
       "10    0.896468      0.787654  \n",
       "11    0.923764      0.761449  \n",
       "12    0.894095      0.802246  \n",
       "13    0.851067      0.772835  \n",
       "14    0.915268      0.767296  \n",
       "15    0.813707      0.845184  \n",
       "16    0.886501      0.794541  \n",
       "17    0.910810      0.787142  \n",
       "18    0.847806      0.778168  \n",
       "19    0.926561      0.702169  "
      ]
     },
     "execution_count": 8,
     "metadata": {},
     "output_type": "execute_result"
    }
   ],
   "source": [
    "y_true_note_vals = [str((label.nonzero() + min_midi).flatten().tolist()) for label in y]\n",
    "y_pred_note_vals = [str((label.nonzero() + min_midi).flatten().tolist()) for label in y_pred]\n",
    "\n",
    "import pandas as pd\n",
    "pred_df = pd.DataFrame({\n",
    "    'y_pred': y_pred_note_vals,\n",
    "    'y_pred_sim': y_pred_sim,\n",
    "    'y_true': y_true_note_vals,\n",
    "    'y_true_sim': y_true_sim,\n",
    "    'y_rand_sim': y_rand_sim, # a chord with each note a random 0 or 1\n",
    "    'y_rand_sim_2': y_rand_sim_2\n",
    "})\n",
    "pred_df.head(n=20)"
   ]
  },
  {
   "cell_type": "code",
   "execution_count": 17,
   "id": "b82218ed-3cff-45ec-b3db-62d43eada6b2",
   "metadata": {},
   "outputs": [
    {
     "data": {
      "text/plain": [
       "tensor(0.1353)"
      ]
     },
     "execution_count": 17,
     "metadata": {},
     "output_type": "execute_result"
    }
   ],
   "source": [
    "from metrics import (\n",
    "    categorical_accuracy, pitch_number_acc, NStringChordAccuracy,\n",
    "    precision, recall, f1\n",
    ")\n",
    "\n",
    "f1(y_pred, y)"
   ]
  },
  {
   "cell_type": "code",
   "execution_count": 18,
   "id": "1de7cd12-d260-4679-8365-e45c884c1dc5",
   "metadata": {},
   "outputs": [
    {
     "data": {
      "text/plain": [
       "tensor(0.2690)"
      ]
     },
     "execution_count": 18,
     "metadata": {},
     "output_type": "execute_result"
    }
   ],
   "source": [
    "recall(y_pred, y)"
   ]
  },
  {
   "cell_type": "code",
   "execution_count": 19,
   "id": "da0de40c-19b3-4ed4-8f18-3c331e4750eb",
   "metadata": {},
   "outputs": [
    {
     "data": {
      "text/plain": [
       "tensor(0.0904)"
      ]
     },
     "execution_count": 19,
     "metadata": {},
     "output_type": "execute_result"
    }
   ],
   "source": [
    "precision(y_pred, y)"
   ]
  },
  {
   "cell_type": "code",
   "execution_count": null,
   "id": "0d235d1c-1bd9-44a1-9219-fd64d49c655a",
   "metadata": {},
   "outputs": [],
   "source": []
  }
 ],
 "metadata": {
  "kernelspec": {
   "display_name": "Python 3",
   "language": "python",
   "name": "python3"
  },
  "language_info": {
   "codemirror_mode": {
    "name": "ipython",
    "version": 3
   },
   "file_extension": ".py",
   "mimetype": "text/x-python",
   "name": "python",
   "nbconvert_exporter": "python",
   "pygments_lexer": "ipython3",
   "version": "3.9.7"
  }
 },
 "nbformat": 4,
 "nbformat_minor": 5
}
